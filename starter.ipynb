{
 "cells": [
  {
   "cell_type": "markdown",
   "metadata": {},
   "source": [
    "# Deploy and monitor a machine learning workflow for Image Classification"
   ]
  },
  {
   "cell_type": "markdown",
   "metadata": {},
   "source": [
    "## Setting up this notebook\n",
    "\n",
    "Notes about the instance size and kernel setup: this notebook has been tested on\n",
    "\n",
    "1. The `Python 3 (Data Science)` kernel\n",
    "2. The `ml.t3.medium` Sagemaker notebook instance\n",
    "\n",
    "## Data Staging\n",
    "\n",
    "We'll use a sample dataset called CIFAR to simulate the challenges Scones Unlimited are facing in Image Classification. In order to start working with CIFAR we'll need to:\n",
    "\n",
    "1. Extract the data from a hosting service\n",
    "2. Transform it into a usable shape and format\n",
    "3. Load it into a production system\n",
    "\n",
    "In other words, we're going to do some simple ETL!\n",
    "\n",
    "### 1. Extract the data from the hosting service\n",
    "\n",
    "In the cell below, define a function `extract_cifar_data` that extracts python version of the CIFAR-100 dataset. The CIFAR dataaset is open source and generously hosted by the University of Toronto at: https://www.cs.toronto.edu/~kriz/cifar-100-python.tar.gz "
   ]
  },
  {
   "cell_type": "code",
   "execution_count": 2,
   "metadata": {
    "tags": []
   },
   "outputs": [],
   "source": [
    "import requests\n",
    "\n",
    "def extract_cifar_data(url, filename=\"cifar.tar.gz\"):\n",
    "    \"\"\"A function for extracting the CIFAR-100 dataset and storing it as a gzipped file\n",
    "    \n",
    "    Arguments:\n",
    "    url      -- the URL where the dataset is hosted\n",
    "    filename -- the full path where the dataset will be written\n",
    "    \n",
    "    \"\"\"\n",
    "    \n",
    "    # Todo: request the data from the data url\n",
    "    # Hint: use `requests.get` method\n",
    "    r = requests.get(url)\n",
    "    with open(filename, \"wb\") as file_context:\n",
    "        file_context.write(r.content)\n",
    "    return"
   ]
  },
  {
   "cell_type": "markdown",
   "metadata": {},
   "source": [
    "Let's test it out! Run the following cell and check whether a new file `cifar.tar.gz` is created in the file explorer."
   ]
  },
  {
   "cell_type": "code",
   "execution_count": 3,
   "metadata": {
    "tags": []
   },
   "outputs": [],
   "source": [
    "extract_cifar_data(\"https://www.cs.toronto.edu/~kriz/cifar-100-python.tar.gz\")     "
   ]
  },
  {
   "cell_type": "markdown",
   "metadata": {},
   "source": [
    "### 2. Transform the data into a usable shape and format\n",
    "\n",
    "Clearly, distributing the data as a gzipped archive makes sense for the hosting service! It saves on bandwidth, storage, and it's a widely-used archive format. In fact, it's so widely used that the Python community ships a utility for working with them, `tarfile`, as part of its Standard Library. Execute the following cell to decompress your extracted dataset:"
   ]
  },
  {
   "cell_type": "code",
   "execution_count": 4,
   "metadata": {
    "tags": []
   },
   "outputs": [],
   "source": [
    "import tarfile\n",
    "\n",
    "with tarfile.open(\"cifar.tar.gz\", \"r:gz\") as tar:\n",
    "    tar.extractall()"
   ]
  },
  {
   "cell_type": "markdown",
   "metadata": {},
   "source": [
    "A new folder `cifar-100-python` should be created, containing `meta`, `test`, and `train` files. These files are `pickles` and the [CIFAR homepage](https://www.cs.toronto.edu/~kriz/cifar.html) provides a simple script that can be used to load them. We've adapted the script below for you to run:"
   ]
  },
  {
   "cell_type": "code",
   "execution_count": 10,
   "metadata": {
    "tags": []
   },
   "outputs": [],
   "source": [
    "import pickle\n",
    "\n",
    "with open(\"./cifar-100-python/meta\", \"rb\") as f:\n",
    "    dataset_meta = pickle.load(f, encoding='bytes')\n",
    "\n",
    "with open(\"./cifar-100-python/test\", \"rb\") as f:\n",
    "    dataset_test = pickle.load(f, encoding='bytes')\n",
    "\n",
    "with open(\"./cifar-100-python/train\", \"rb\") as f:\n",
    "    dataset_train = pickle.load(f, encoding='bytes')"
   ]
  },
  {
   "cell_type": "code",
   "execution_count": 11,
   "metadata": {
    "tags": []
   },
   "outputs": [
    {
     "data": {
      "text/plain": [
       "dict_keys([b'filenames', b'batch_label', b'fine_labels', b'coarse_labels', b'data'])"
      ]
     },
     "execution_count": 11,
     "metadata": {},
     "output_type": "execute_result"
    }
   ],
   "source": [
    "# Feel free to explore the datasets\n",
    "\n",
    "dataset_train.keys()"
   ]
  },
  {
   "cell_type": "markdown",
   "metadata": {},
   "source": [
    "As documented on the homepage, `b'data'` contains rows of 3072 unsigned integers, representing three channels (red, green, and blue) for one 32x32 pixel image per row."
   ]
  },
  {
   "cell_type": "code",
   "execution_count": 12,
   "metadata": {
    "tags": []
   },
   "outputs": [
    {
     "data": {
      "text/plain": [
       "3072"
      ]
     },
     "execution_count": 12,
     "metadata": {},
     "output_type": "execute_result"
    }
   ],
   "source": [
    "32*32*3"
   ]
  },
  {
   "cell_type": "markdown",
   "metadata": {},
   "source": [
    "For a simple gut-check, let's transform one of our images. Each 1024 items in a row is a channel (red, green, then blue). Each 32 items in the channel are a row in the 32x32 image. Using python, we can stack these channels into a 32x32x3 array, and save it as a PNG file:"
   ]
  },
  {
   "cell_type": "code",
   "execution_count": 13,
   "metadata": {
    "tags": []
   },
   "outputs": [],
   "source": [
    "import numpy as np\n",
    "\n",
    "# Each 1024 in a row is a channel (red, green, then blue)\n",
    "row = dataset_train[b'data'][0]\n",
    "red, green, blue = row[0:1024], row[1024:2048], row[2048:]\n",
    "\n",
    "# Each 32 items in the channel are a row in the 32x32 image\n",
    "red = red.reshape(32,32)\n",
    "green = green.reshape(32,32)\n",
    "blue = blue.reshape(32,32)\n",
    "\n",
    "# Combine the channels into a 32x32x3 image!\n",
    "combined = np.dstack((red,green,blue))"
   ]
  },
  {
   "cell_type": "markdown",
   "metadata": {},
   "source": [
    "For a more concise version, consider the following:"
   ]
  },
  {
   "cell_type": "code",
   "execution_count": 14,
   "metadata": {
    "tags": []
   },
   "outputs": [],
   "source": [
    "# All in one:\n",
    "test_image = np.dstack((\n",
    "    row[0:1024].reshape(32,32),\n",
    "    row[1024:2048].reshape(32,32),\n",
    "    row[2048:].reshape(32,32)\n",
    "))"
   ]
  },
  {
   "cell_type": "code",
   "execution_count": 15,
   "metadata": {
    "tags": []
   },
   "outputs": [],
   "source": [
    "%matplotlib inline"
   ]
  },
  {
   "cell_type": "code",
   "execution_count": 16,
   "metadata": {
    "tags": []
   },
   "outputs": [
    {
     "data": {
      "image/png": "[encoded data removed]",
      "text/plain": [
       "<Figure size 640x480 with 1 Axes>"
      ]
     },
     "metadata": {},
     "output_type": "display_data"
    }
   ],
   "source": [
    "import matplotlib.pyplot as plt\n",
    "plt.imshow(test_image);"
   ]
  },
  {
   "cell_type": "markdown",
   "metadata": {},
   "source": [
    "Looks like a cow! Let's check the label. `dataset_meta` contains label names in order, and `dataset_train` has a list of labels for each row."
   ]
  },
  {
   "cell_type": "code",
   "execution_count": 13,
   "metadata": {
    "tags": []
   },
   "outputs": [
    {
     "data": {
      "text/plain": [
       "19"
      ]
     },
     "execution_count": 13,
     "metadata": {},
     "output_type": "execute_result"
    }
   ],
   "source": [
    "dataset_train[b'fine_labels'][0]"
   ]
  },
  {
   "cell_type": "markdown",
   "metadata": {},
   "source": [
    "Our image has a label of `19`, so let's see what the 19th item is in the list of label names."
   ]
  },
  {
   "cell_type": "code",
   "execution_count": 14,
   "metadata": {
    "tags": []
   },
   "outputs": [
    {
     "name": "stdout",
     "output_type": "stream",
     "text": [
      "b'cattle'\n"
     ]
    }
   ],
   "source": [
    "print(dataset_meta[b'fine_label_names'][19])"
   ]
  },
  {
   "cell_type": "markdown",
   "metadata": {},
   "source": [
    "Ok! 'cattle' sounds about right. By the way, using the previous two lines we can do:"
   ]
  },
  {
   "cell_type": "code",
   "execution_count": 15,
   "metadata": {
    "tags": []
   },
   "outputs": [
    {
     "name": "stdout",
     "output_type": "stream",
     "text": [
      "b'cattle'\n"
     ]
    }
   ],
   "source": [
    "n = 0\n",
    "print(dataset_meta[b'fine_label_names'][dataset_train[b'fine_labels'][n]])"
   ]
  },
  {
   "cell_type": "markdown",
   "metadata": {},
   "source": [
    "Now we know how to check labels, is there a way that we can also check file names? `dataset_train` also contains a `b'filenames'` key. Let's see what we have here:"
   ]
  },
  {
   "cell_type": "code",
   "execution_count": 16,
   "metadata": {
    "tags": []
   },
   "outputs": [
    {
     "name": "stdout",
     "output_type": "stream",
     "text": [
      "b'bos_taurus_s_000507.png'\n"
     ]
    }
   ],
   "source": [
    "print(dataset_train[b'filenames'][0])"
   ]
  },
  {
   "cell_type": "markdown",
   "metadata": {},
   "source": [
    "\"Taurus\" is the name of a subspecies of cattle, so this looks like a pretty reasonable filename. To save an image we can also do:"
   ]
  },
  {
   "cell_type": "code",
   "execution_count": 17,
   "metadata": {
    "tags": []
   },
   "outputs": [],
   "source": [
    "plt.imsave(\"file.png\", test_image)"
   ]
  },
  {
   "cell_type": "markdown",
   "metadata": {},
   "source": [
    "Your new PNG file should now appear in the file explorer -- go ahead and pop it open to see!\n",
    "\n",
    "Now that you know how to reshape the images, save them as files, and capture their filenames and labels, let's just capture all the bicycles and motorcycles and save them. Scones Unlimited can use a model that tells these apart to route delivery drivers automatically.\n",
    "\n",
    "In the following cell, identify the label numbers for Bicycles and Motorcycles:"
   ]
  },
  {
   "cell_type": "code",
   "execution_count": 5,
   "metadata": {
    "tags": []
   },
   "outputs": [
    {
     "name": "stdout",
     "output_type": "stream",
     "text": [
      "Label number for bicycles: 8\n",
      "Label number for motorcycles: 48\n"
     ]
    }
   ],
   "source": [
    "import pandas as pd\n",
    "\n",
    "meta_labels = dataset_meta[b'fine_label_names']\n",
    "\n",
    "index_of_bicycles = meta_labels.index(b'bicycle')\n",
    "index_of_motorcycles = meta_labels.index(b'motorcycle')\n",
    "\n",
    "print(\"Label number for bicycles: \" + str(index_of_bicycles))\n",
    "print(\"Label number for motorcycles: \" + str(index_of_motorcycles))\n"
   ]
  },
  {
   "cell_type": "markdown",
   "metadata": {},
   "source": [
    "Good job! We only need objects with label 8 and 48 -- this drastically simplifies our handling of the data! Below we construct a dataframe for you, and you can safely drop the rows that don't contain observations about bicycles and motorcycles. Fill in the missing lines below to drop all other rows:"
   ]
  },
  {
   "cell_type": "code",
   "execution_count": 6,
   "metadata": {
    "tags": []
   },
   "outputs": [],
   "source": [
    "#Construct the dataframe\n",
    "df_train = pd.DataFrame({\n",
    "    \"filenames\": dataset_train[b'filenames'],\n",
    "    \"labels\": dataset_train[b'fine_labels'],\n",
    "    \"row\": range(len(dataset_train[b'filenames']))\n",
    "})\n",
    "\n",
    "# Drop all rows from df_train where label is not 8 or 48\n",
    "df_train = df_train[df_train['labels'].isin([8, 48])]\n",
    "\n",
    "# Decode df_train.filenames so they are regular strings\n",
    "df_train[\"filenames\"] = df_train[\"filenames\"].apply(\n",
    "    lambda x: x.decode(\"utf-8\")\n",
    ")\n",
    "\n",
    "\n",
    "df_test = pd.DataFrame({\n",
    "    \"filenames\": dataset_test[b'filenames'],\n",
    "    \"labels\": dataset_test[b'fine_labels'],\n",
    "    \"row\": range(len(dataset_test[b'filenames']))\n",
    "})\n",
    "\n",
    "# Drop all rows from df_test where label is not 8 or 48\n",
    "df_test = df_test[df_test['labels'].isin([8, 48])]\n",
    "\n",
    "# Decode df_test.filenames so they are regular strings\n",
    "df_test[\"filenames\"] = df_test[\"filenames\"].apply(\n",
    "    lambda x: x.decode(\"utf-8\")\n",
    ")"
   ]
  },
  {
   "cell_type": "code",
   "execution_count": 22,
   "metadata": {
    "tags": []
   },
   "outputs": [
    {
     "name": "stdout",
     "output_type": "stream",
     "text": [
      "<class 'pandas.core.frame.DataFrame'>\n",
      "Int64Index: 1000 entries, 16 to 49985\n",
      "Data columns (total 3 columns):\n",
      " #   Column     Non-Null Count  Dtype \n",
      "---  ------     --------------  ----- \n",
      " 0   filenames  1000 non-null   object\n",
      " 1   labels     1000 non-null   int64 \n",
      " 2   row        1000 non-null   int64 \n",
      "dtypes: int64(2), object(1)\n",
      "memory usage: 31.2+ KB\n"
     ]
    }
   ],
   "source": [
    "df_train.info()"
   ]
  },
  {
   "cell_type": "markdown",
   "metadata": {},
   "source": [
    "Now that the data is filtered for just our classes, we can save all our images."
   ]
  },
  {
   "cell_type": "code",
   "execution_count": 23,
   "metadata": {
    "tags": []
   },
   "outputs": [
    {
     "name": "stdout",
     "output_type": "stream",
     "text": [
      "<class 'pandas.core.frame.DataFrame'>\n",
      "Int64Index: 200 entries, 27 to 9939\n",
      "Data columns (total 3 columns):\n",
      " #   Column     Non-Null Count  Dtype \n",
      "---  ------     --------------  ----- \n",
      " 0   filenames  200 non-null    object\n",
      " 1   labels     200 non-null    int64 \n",
      " 2   row        200 non-null    int64 \n",
      "dtypes: int64(2), object(1)\n",
      "memory usage: 6.2+ KB\n"
     ]
    }
   ],
   "source": [
    "df_test.info()"
   ]
  },
  {
   "cell_type": "code",
   "execution_count": 20,
   "metadata": {
    "tags": []
   },
   "outputs": [],
   "source": [
    "!mkdir ./train\n",
    "!mkdir ./test"
   ]
  },
  {
   "cell_type": "markdown",
   "metadata": {},
   "source": [
    "In the previous sections we introduced you to several key snippets of code:\n",
    "\n",
    "1. Grabbing the image data:\n",
    "\n",
    "```python\n",
    "dataset_train[b'data'][0]\n",
    "```\n",
    "\n",
    "2. A simple idiom for stacking the image data into the right shape\n",
    "\n",
    "```python\n",
    "import numpy as np\n",
    "np.dstack((\n",
    "    row[0:1024].reshape(32,32),\n",
    "    row[1024:2048].reshape(32,32),\n",
    "    row[2048:].reshape(32,32)\n",
    "))\n",
    "```\n",
    "\n",
    "3. A simple `matplotlib` utility for saving images\n",
    "\n",
    "```python\n",
    "plt.imsave(path+row['filenames'], target)\n",
    "```\n",
    "\n",
    "Compose these together into a function that saves all the images into the `./test` and `./train` directories. Use the comments in the body of the `save_images` function below to guide your construction of the function:\n"
   ]
  },
  {
   "cell_type": "code",
   "execution_count": 24,
   "metadata": {
    "tags": []
   },
   "outputs": [],
   "source": [
    "def save_images(df, dataset, path):\n",
    "    c = 0\n",
    "    for index, row in df.iterrows():\n",
    "        #Grab the image data in row-major form\n",
    "        img = dataset[b'data'][row['row']]\n",
    "        # Consolidated stacking/reshaping from earlier\n",
    "        target = np.dstack((\n",
    "            img[0:1024].reshape(32,32),\n",
    "            img[1024:2048].reshape(32,32),\n",
    "            img[2048:].reshape(32,32)\n",
    "        ))\n",
    "\n",
    "        # Save the image\n",
    "        plt.imsave(path+row['filenames'], target)\n",
    "        \n",
    "        c+=1\n",
    "    print(f\"{c} Images Saved\")\n",
    "    # Return any signal data you want for debugging\n",
    "    return \"Saving Complete!\""
   ]
  },
  {
   "cell_type": "code",
   "execution_count": 25,
   "metadata": {
    "tags": []
   },
   "outputs": [
    {
     "name": "stdout",
     "output_type": "stream",
     "text": [
      "1000 Images Saved\n",
      "200 Images Saved\n"
     ]
    },
    {
     "data": {
      "text/plain": [
       "'Saving Complete!'"
      ]
     },
     "execution_count": 25,
     "metadata": {},
     "output_type": "execute_result"
    }
   ],
   "source": [
    "## TODO: save ALL images using the save_images function\n",
    "save_images(df = df_train, dataset = dataset_train, path =\"./train/\")\n",
    "\n",
    "save_images(df = df_test, dataset = dataset_test, path =\"./test/\")\n"
   ]
  },
  {
   "cell_type": "markdown",
   "metadata": {},
   "source": [
    "### 3. Load the data\n",
    "\n",
    "Now we can load the data into S3.\n",
    "\n",
    "Using the sagemaker SDK grab the current region, execution role, and bucket."
   ]
  },
  {
   "cell_type": "code",
   "execution_count": 21,
   "metadata": {
    "tags": []
   },
   "outputs": [
    {
     "name": "stdout",
     "output_type": "stream",
     "text": [
      "Default Bucket: project43547\n",
      "AWS Region: us-east-1\n",
      "RoleArn: arn:aws:iam::204876503191:role/service-role/AmazonSageMaker-ExecutionRole-20230605T104207\n"
     ]
    }
   ],
   "source": [
    "import sagemaker\n",
    "\n",
    "from sagemaker.session import Session\n",
    "from sagemaker import get_execution_role\n",
    "\n",
    "session = sagemaker.Session()\n",
    "\n",
    "bucket= \"project43547\"\n",
    "print(\"Default Bucket: {}\".format(bucket))\n",
    "\n",
    "region = session.boto_region_name\n",
    "print(\"AWS Region: {}\".format(region))\n",
    "\n",
    "role = get_execution_role()\n",
    "print(\"RoleArn: {}\".format(role))"
   ]
  },
  {
   "cell_type": "markdown",
   "metadata": {},
   "source": [
    "With this data we can easily sync your data up into S3!"
   ]
  },
  {
   "cell_type": "code",
   "execution_count": 8,
   "metadata": {
    "tags": []
   },
   "outputs": [],
   "source": [
    "import os\n",
    "\n",
    "os.environ[\"DEFAULT_S3_BUCKET\"] = bucket\n",
    "!aws s3 sync ./train s3://${DEFAULT_S3_BUCKET}/train/\n",
    "!aws s3 sync ./test s3://${DEFAULT_S3_BUCKET}/test/"
   ]
  },
  {
   "cell_type": "markdown",
   "metadata": {},
   "source": [
    "And that's it! You can check the bucket and verify that the items were uploaded.\n",
    "\n",
    "## Model Training\n",
    "\n",
    "For Image Classification, Sagemaker [also expects metadata](https://docs.aws.amazon.com/sagemaker/latest/dg/image-classification.html) e.g. in the form of TSV files with labels and filepaths. We can generate these using our Pandas DataFrames from earlier:"
   ]
  },
  {
   "cell_type": "code",
   "execution_count": 9,
   "metadata": {
    "tags": []
   },
   "outputs": [],
   "source": [
    "def to_metadata_file(df, prefix):\n",
    "    df[\"s3_path\"] = df[\"filenames\"]\n",
    "    df[\"labels\"] = df[\"labels\"].apply(lambda x: 0 if x==8 else 1)\n",
    "    return df[[\"row\", \"labels\", \"s3_path\"]].to_csv(\n",
    "        f\"{prefix}.lst\", sep=\"\\t\", index=False, header=False\n",
    "    )\n",
    "    \n",
    "to_metadata_file(df_train.copy(), \"./train\")\n",
    "to_metadata_file(df_test.copy(), \"./test\")"
   ]
  },
  {
   "cell_type": "markdown",
   "metadata": {},
   "source": [
    "We can also upload our manifest files:"
   ]
  },
  {
   "cell_type": "code",
   "execution_count": 11,
   "metadata": {},
   "outputs": [],
   "source": [
    "import boto3\n",
    "\n",
    "# Upload files\n",
    "boto3.Session().resource('s3').Bucket(\n",
    "    bucket).Object('train.lst').upload_file('./train.lst')\n",
    "boto3.Session().resource('s3').Bucket(\n",
    "    bucket).Object('test.lst').upload_file('./test.lst')"
   ]
  },
  {
   "cell_type": "markdown",
   "metadata": {},
   "source": [
    "Using the `bucket` and `region` info we can get the latest prebuilt container to run our training job, and define an output location on our s3 bucket for the model. Use the `image_uris` function from the SageMaker SDK to retrieve the latest `image-classification` image below:"
   ]
  },
  {
   "cell_type": "code",
   "execution_count": 14,
   "metadata": {},
   "outputs": [
    {
     "name": "stderr",
     "output_type": "stream",
     "text": [
      "Defaulting to the only supported framework/algorithm version: 1. Ignoring framework/algorithm version: latest.\n"
     ]
    }
   ],
   "source": [
    "# Use the image_uris function to retrieve the latest 'image-classification' image \n",
    "algo_image = sagemaker.image_uris.retrieve(\n",
    "    framework='image-classification',\n",
    "    region=region,\n",
    "    version='latest'\n",
    ")\n",
    "s3_output_location = f\"s3://{bucket}/models/image_model\""
   ]
  },
  {
   "cell_type": "markdown",
   "metadata": {},
   "source": [
    "We're ready to create an estimator! Create an estimator `img_classifier_model` that uses one instance of `ml.p3.2xlarge`. Ensure that y ou use the output location we defined above - we'll be referring to that later!"
   ]
  },
  {
   "cell_type": "code",
   "execution_count": 15,
   "metadata": {},
   "outputs": [],
   "source": [
    "img_classifier_model=sagemaker.estimator.Estimator(\n",
    "    image_uri = algo_image,\n",
    "    instance_count = 1,\n",
    "    instance_type = \"ml.p3.2xlarge\",\n",
    "    output_path = s3_output_location,\n",
    "    role = role,\n",
    "    sagemaker_seesion = session\n",
    ")"
   ]
  },
  {
   "cell_type": "markdown",
   "metadata": {},
   "source": [
    "We can also set a few key hyperparameters and define the inputs for our model:"
   ]
  },
  {
   "cell_type": "code",
   "execution_count": 17,
   "metadata": {},
   "outputs": [],
   "source": [
    "img_classifier_model.set_hyperparameters(\n",
    "    image_shape=\"3,32,32\",\n",
    "    num_classes= 2,\n",
    "    num_training_samples= len(df_train)\n",
    ")"
   ]
  },
  {
   "cell_type": "markdown",
   "metadata": {},
   "source": [
    "The `image-classification` image uses four input channels with very specific input parameters. For convenience, we've provided them below:"
   ]
  },
  {
   "cell_type": "code",
   "execution_count": 18,
   "metadata": {},
   "outputs": [],
   "source": [
    "from sagemaker.debugger import Rule, rule_configs\n",
    "from sagemaker.session import TrainingInput\n",
    "model_inputs = {\n",
    "        \"train\": sagemaker.inputs.TrainingInput(\n",
    "            s3_data=f\"s3://{bucket}/train/\",\n",
    "            content_type=\"application/x-image\"\n",
    "        ),\n",
    "        \"validation\": sagemaker.inputs.TrainingInput(\n",
    "            s3_data=f\"s3://{bucket}/test/\",\n",
    "            content_type=\"application/x-image\"\n",
    "        ),\n",
    "        \"train_lst\": sagemaker.inputs.TrainingInput(\n",
    "            s3_data=f\"s3://{bucket}/train.lst\",\n",
    "            content_type=\"application/x-image\"\n",
    "        ),\n",
    "        \"validation_lst\": sagemaker.inputs.TrainingInput(\n",
    "            s3_data=f\"s3://{bucket}/test.lst\",\n",
    "            content_type=\"application/x-image\"\n",
    "        )\n",
    "}"
   ]
  },
  {
   "cell_type": "markdown",
   "metadata": {},
   "source": [
    "Great, now we can train the model using the model_inputs. In the cell below, call the `fit` method on our model,:"
   ]
  },
  {
   "cell_type": "code",
   "execution_count": 19,
   "metadata": {},
   "outputs": [
    {
     "name": "stderr",
     "output_type": "stream",
     "text": [
      "INFO:sagemaker:Creating training-job with name: image-classification-2023-10-09-10-49-19-192\n"
     ]
    },
    {
     "name": "stdout",
     "output_type": "stream",
     "text": [
      "2023-10-09 10:49:19 Starting - Starting the training job...\n",
      "2023-10-09 10:49:45 Starting - Preparing the instances for training.........\n",
      "2023-10-09 10:50:59 Downloading - Downloading input data...\n",
      "2023-10-09 10:51:23 Training - Downloading the training image........................\n",
      "2023-10-09 10:55:48 Training - Training image download completed. Training in progress..\u001b[34mDocker entrypoint called with argument(s): train\u001b[0m\n",
      "\u001b[34mRunning default environment configuration script\u001b[0m\n",
      "\u001b[34mNvidia gpu devices, drivers and cuda toolkit versions (only available on hosts with GPU):\u001b[0m\n",
      "\u001b[34mMon Oct  9 10:55:46 2023       \u001b[0m\n",
      "\u001b[34m+---------------------------------------------------------------------------------------+\u001b[0m\n",
      "\u001b[34m| NVIDIA-SMI 535.104.12             Driver Version: 535.104.12   CUDA Version: 12.2     |\u001b[0m\n",
      "\u001b[34m|-----------------------------------------+----------------------+----------------------+\u001b[0m\n",
      "\u001b[34m| GPU  Name                 Persistence-M | Bus-Id        Disp.A | Volatile Uncorr. ECC |\u001b[0m\n",
      "\u001b[34m| Fan  Temp   Perf          Pwr:Usage/Cap |         Memory-Usage | GPU-Util  Compute M. |\u001b[0m\n",
      "\u001b[34m|                                         |                      |               MIG M. |\u001b[0m\n",
      "\u001b[34m|=========================================+======================+======================|\u001b[0m\n",
      "\u001b[34m|   0  Tesla V100-SXM2-16GB           On  | 00000000:00:1E.0 Off |                    0 |\u001b[0m\n",
      "\u001b[34m| N/A   41C    P0              26W / 300W |      0MiB / 16384MiB |      0%      Default |\u001b[0m\n",
      "\u001b[34m|                                         |                      |                  N/A |\u001b[0m\n",
      "\u001b[34m+-----------------------------------------+----------------------+----------------------+\n",
      "                                                                                         \u001b[0m\n",
      "\u001b[34m+---------------------------------------------------------------------------------------+\u001b[0m\n",
      "\u001b[34m| Processes:                                                                            |\u001b[0m\n",
      "\u001b[34m|  GPU   GI   CI        PID   Type   Process name                            GPU Memory |\u001b[0m\n",
      "\u001b[34m|        ID   ID                                                             Usage      |\u001b[0m\n",
      "\u001b[34m|=======================================================================================|\u001b[0m\n",
      "\u001b[34m|  No running processes found                                                           |\u001b[0m\n",
      "\u001b[34m+---------------------------------------------------------------------------------------+\u001b[0m\n",
      "\u001b[34mChecking for nvidia driver and cuda compatibility.\u001b[0m\n",
      "\u001b[34mCUDA Compatibility driver provided.\u001b[0m\n",
      "\u001b[34mProceeding with compatibility check between driver, cuda-toolkit and cuda-compat.\u001b[0m\n",
      "\u001b[34mDetected cuda-toolkit version: 11.1.\u001b[0m\n",
      "\u001b[34mDetected cuda-compat version: 455.32.00.\u001b[0m\n",
      "\u001b[34mDetected Nvidia driver version: 535.104.12.\u001b[0m\n",
      "\u001b[34mNvidia driver compatible with cuda-toolkit. Disabling cuda-compat.\u001b[0m\n",
      "\u001b[34m[10/09/2023 10:55:50 INFO 140606550820672] Reading default configuration from /opt/amazon/lib/python3.7/site-packages/image_classification/default-input.json: {'use_pretrained_model': 0, 'num_layers': 152, 'epochs': 30, 'learning_rate': 0.1, 'lr_scheduler_factor': 0.1, 'optimizer': 'sgd', 'momentum': 0, 'weight_decay': 0.0001, 'beta_1': 0.9, 'beta_2': 0.999, 'eps': 1e-08, 'gamma': 0.9, 'mini_batch_size': 32, 'image_shape': '3,224,224', 'precision_dtype': 'float32'}\u001b[0m\n",
      "\u001b[34m[10/09/2023 10:55:50 INFO 140606550820672] Merging with provided configuration from /opt/ml/input/config/hyperparameters.json: {'image_shape': '3,32,32', 'num_classes': '2', 'num_training_samples': '1000'}\u001b[0m\n",
      "\u001b[34m[10/09/2023 10:55:50 INFO 140606550820672] Final configuration: {'use_pretrained_model': 0, 'num_layers': 152, 'epochs': 30, 'learning_rate': 0.1, 'lr_scheduler_factor': 0.1, 'optimizer': 'sgd', 'momentum': 0, 'weight_decay': 0.0001, 'beta_1': 0.9, 'beta_2': 0.999, 'eps': 1e-08, 'gamma': 0.9, 'mini_batch_size': 32, 'image_shape': '3,32,32', 'precision_dtype': 'float32', 'num_classes': '2', 'num_training_samples': '1000'}\u001b[0m\n",
      "\u001b[34m[10/09/2023 10:55:50 INFO 140606550820672] Searching for .lst files in /opt/ml/input/data/train_lst.\u001b[0m\n",
      "\u001b[34m[10/09/2023 10:55:50 INFO 140606550820672] Creating record files for train.lst\u001b[0m\n",
      "\u001b[34m[10/09/2023 10:55:50 INFO 140606550820672] Done creating record files...\u001b[0m\n",
      "\u001b[34m[10/09/2023 10:55:50 INFO 140606550820672] Searching for .lst files in /opt/ml/input/data/validation_lst.\u001b[0m\n",
      "\u001b[34m[10/09/2023 10:55:50 INFO 140606550820672] Creating record files for test.lst\u001b[0m\n",
      "\u001b[34m[10/09/2023 10:55:50 INFO 140606550820672] Done creating record files...\u001b[0m\n",
      "\u001b[34m[10/09/2023 10:55:50 INFO 140606550820672] use_pretrained_model: 0\u001b[0m\n",
      "\u001b[34m[10/09/2023 10:55:50 INFO 140606550820672] multi_label: 0\u001b[0m\n",
      "\u001b[34m[10/09/2023 10:55:50 INFO 140606550820672] Performing random weight initialization\u001b[0m\n",
      "\u001b[34m[10/09/2023 10:55:50 INFO 140606550820672] ---- Parameters ----\u001b[0m\n",
      "\u001b[34m[10/09/2023 10:55:50 INFO 140606550820672] num_layers: 152\u001b[0m\n",
      "\u001b[34m[10/09/2023 10:55:50 INFO 140606550820672] data type: <class 'numpy.float32'>\u001b[0m\n",
      "\u001b[34m[10/09/2023 10:55:50 INFO 140606550820672] epochs: 30\u001b[0m\n",
      "\u001b[34m[10/09/2023 10:55:50 INFO 140606550820672] optimizer: sgd\u001b[0m\n",
      "\u001b[34m[10/09/2023 10:55:50 INFO 140606550820672] momentum: 0.9\u001b[0m\n",
      "\u001b[34m[10/09/2023 10:55:50 INFO 140606550820672] weight_decay: 0.0001\u001b[0m\n",
      "\u001b[34m[10/09/2023 10:55:50 INFO 140606550820672] learning_rate: 0.1\u001b[0m\n",
      "\u001b[34m[10/09/2023 10:55:50 INFO 140606550820672] num_training_samples: 1000\u001b[0m\n",
      "\u001b[34m[10/09/2023 10:55:50 INFO 140606550820672] mini_batch_size: 32\u001b[0m\n",
      "\u001b[34m[10/09/2023 10:55:50 INFO 140606550820672] image_shape: 3,32,32\u001b[0m\n",
      "\u001b[34m[10/09/2023 10:55:50 INFO 140606550820672] num_classes: 2\u001b[0m\n",
      "\u001b[34m[10/09/2023 10:55:50 INFO 140606550820672] augmentation_type: None\u001b[0m\n",
      "\u001b[34m[10/09/2023 10:55:50 INFO 140606550820672] kv_store: device\u001b[0m\n",
      "\u001b[34m[10/09/2023 10:55:50 INFO 140606550820672] checkpoint_frequency not set, will store the best model\u001b[0m\n",
      "\u001b[34m[10/09/2023 10:55:50 INFO 140606550820672] --------------------\u001b[0m\n",
      "\u001b[34m[10/09/2023 10:55:51 INFO 140606550820672] Setting number of threads: 7\u001b[0m\n",
      "\u001b[34m[10:55:54] /opt/brazil-pkg-cache/packages/AIAlgorithmsMXNet/AIAlgorithmsMXNet-1.4.x_ecl_Cuda_11.1.x.231.0/AL2_x86_64/generic-flavor/src/src/operator/nn/./cudnn/./cudnn_algoreg-inl.h:97: Running performance tests to find the best convolution algorithm, this can take a while... (setting env variable MXNET_CUDNN_AUTOTUNE_DEFAULT to 0 to disable)\u001b[0m\n",
      "\u001b[34m[10/09/2023 10:56:00 INFO 140606550820672] Epoch[0] Batch [20]#011Speed: 121.297 samples/sec#011accuracy=0.592262\u001b[0m\n",
      "\u001b[34m[10/09/2023 10:56:01 INFO 140606550820672] Epoch[0] Train-accuracy=0.645161\u001b[0m\n",
      "\u001b[34m[10/09/2023 10:56:01 INFO 140606550820672] Epoch[0] Time cost=6.941\u001b[0m\n",
      "\u001b[34m[10/09/2023 10:56:02 INFO 140606550820672] Epoch[0] Validation-accuracy=0.500000\u001b[0m\n",
      "\u001b[34m[10/09/2023 10:56:02 INFO 140606550820672] Storing the best model with validation accuracy: 0.500000\u001b[0m\n",
      "\u001b[34m[10/09/2023 10:56:02 INFO 140606550820672] Saved checkpoint to \"/opt/ml/model/image-classification-0001.params\"\u001b[0m\n",
      "\u001b[34m[10/09/2023 10:56:06 INFO 140606550820672] Epoch[1] Batch [20]#011Speed: 182.022 samples/sec#011accuracy=0.718750\u001b[0m\n",
      "\u001b[34m[10/09/2023 10:56:08 INFO 140606550820672] Epoch[1] Train-accuracy=0.722782\u001b[0m\n",
      "\u001b[34m[10/09/2023 10:56:08 INFO 140606550820672] Epoch[1] Time cost=5.174\u001b[0m\n",
      "\u001b[34m[10/09/2023 10:56:08 INFO 140606550820672] Epoch[1] Validation-accuracy=0.630208\u001b[0m\n",
      "\u001b[34m[10/09/2023 10:56:08 INFO 140606550820672] Storing the best model with validation accuracy: 0.630208\u001b[0m\n",
      "\u001b[34m[10/09/2023 10:56:09 INFO 140606550820672] Saved checkpoint to \"/opt/ml/model/image-classification-0002.params\"\u001b[0m\n",
      "\u001b[34m[10/09/2023 10:56:12 INFO 140606550820672] Epoch[2] Batch [20]#011Speed: 188.392 samples/sec#011accuracy=0.739583\u001b[0m\n",
      "\u001b[34m[10/09/2023 10:56:14 INFO 140606550820672] Epoch[2] Train-accuracy=0.728831\u001b[0m\n",
      "\u001b[34m[10/09/2023 10:56:14 INFO 140606550820672] Epoch[2] Time cost=5.049\u001b[0m\n",
      "\u001b[34m[10/09/2023 10:56:14 INFO 140606550820672] Epoch[2] Validation-accuracy=0.786458\u001b[0m\n",
      "\u001b[34m[10/09/2023 10:56:15 INFO 140606550820672] Storing the best model with validation accuracy: 0.786458\u001b[0m\n",
      "\u001b[34m[10/09/2023 10:56:15 INFO 140606550820672] Saved checkpoint to \"/opt/ml/model/image-classification-0003.params\"\u001b[0m\n",
      "\u001b[34m[10/09/2023 10:56:18 INFO 140606550820672] Epoch[3] Batch [20]#011Speed: 188.781 samples/sec#011accuracy=0.720238\u001b[0m\n",
      "\u001b[34m[10/09/2023 10:56:20 INFO 140606550820672] Epoch[3] Train-accuracy=0.751008\u001b[0m\n",
      "\u001b[34m[10/09/2023 10:56:20 INFO 140606550820672] Epoch[3] Time cost=5.042\u001b[0m\n",
      "\u001b[34m[10/09/2023 10:56:21 INFO 140606550820672] Epoch[3] Validation-accuracy=0.799107\u001b[0m\n",
      "\u001b[34m[10/09/2023 10:56:21 INFO 140606550820672] Storing the best model with validation accuracy: 0.799107\u001b[0m\n",
      "\u001b[34m[10/09/2023 10:56:21 INFO 140606550820672] Saved checkpoint to \"/opt/ml/model/image-classification-0004.params\"\u001b[0m\n",
      "\u001b[34m[10/09/2023 10:56:25 INFO 140606550820672] Epoch[4] Batch [20]#011Speed: 190.297 samples/sec#011accuracy=0.757440\u001b[0m\n",
      "\u001b[34m[10/09/2023 10:56:26 INFO 140606550820672] Epoch[4] Train-accuracy=0.769153\u001b[0m\n",
      "\u001b[34m[10/09/2023 10:56:26 INFO 140606550820672] Epoch[4] Time cost=5.011\u001b[0m\n",
      "\u001b[34m[10/09/2023 10:56:27 INFO 140606550820672] Epoch[4] Validation-accuracy=0.822917\u001b[0m\n",
      "\u001b[34m[10/09/2023 10:56:27 INFO 140606550820672] Storing the best model with validation accuracy: 0.822917\u001b[0m\n",
      "\u001b[34m[10/09/2023 10:56:28 INFO 140606550820672] Saved checkpoint to \"/opt/ml/model/image-classification-0005.params\"\u001b[0m\n",
      "\u001b[34m[10/09/2023 10:56:31 INFO 140606550820672] Epoch[5] Batch [20]#011Speed: 190.470 samples/sec#011accuracy=0.813988\u001b[0m\n",
      "\u001b[34m[10/09/2023 10:56:33 INFO 140606550820672] Epoch[5] Train-accuracy=0.797379\u001b[0m\n",
      "\u001b[34m[10/09/2023 10:56:33 INFO 140606550820672] Epoch[5] Time cost=5.017\u001b[0m\n",
      "\u001b[34m[10/09/2023 10:56:33 INFO 140606550820672] Epoch[5] Validation-accuracy=0.817708\u001b[0m\n",
      "\u001b[34m[10/09/2023 10:56:37 INFO 140606550820672] Epoch[6] Batch [20]#011Speed: 190.867 samples/sec#011accuracy=0.831845\u001b[0m\n",
      "\u001b[34m[10/09/2023 10:56:39 INFO 140606550820672] Epoch[6] Train-accuracy=0.816532\u001b[0m\n",
      "\u001b[34m[10/09/2023 10:56:39 INFO 140606550820672] Epoch[6] Time cost=5.024\u001b[0m\n",
      "\u001b[34m[10/09/2023 10:56:39 INFO 140606550820672] Epoch[6] Validation-accuracy=0.822917\u001b[0m\n",
      "\u001b[34m[10/09/2023 10:56:43 INFO 140606550820672] Epoch[7] Batch [20]#011Speed: 188.808 samples/sec#011accuracy=0.842262\u001b[0m\n",
      "\u001b[34m[10/09/2023 10:56:45 INFO 140606550820672] Epoch[7] Train-accuracy=0.831653\u001b[0m\n",
      "\u001b[34m[10/09/2023 10:56:45 INFO 140606550820672] Epoch[7] Time cost=5.033\u001b[0m\n",
      "\u001b[34m[10/09/2023 10:56:45 INFO 140606550820672] Epoch[7] Validation-accuracy=0.799107\u001b[0m\n",
      "\u001b[34m[10/09/2023 10:56:49 INFO 140606550820672] Epoch[8] Batch [20]#011Speed: 188.050 samples/sec#011accuracy=0.843750\u001b[0m\n",
      "\u001b[34m[10/09/2023 10:56:51 INFO 140606550820672] Epoch[8] Train-accuracy=0.843750\u001b[0m\n",
      "\u001b[34m[10/09/2023 10:56:51 INFO 140606550820672] Epoch[8] Time cost=5.066\u001b[0m\n",
      "\u001b[34m[10/09/2023 10:56:51 INFO 140606550820672] Epoch[8] Validation-accuracy=0.812500\u001b[0m\n",
      "\u001b[34m[10/09/2023 10:56:55 INFO 140606550820672] Epoch[9] Batch [20]#011Speed: 190.450 samples/sec#011accuracy=0.830357\u001b[0m\n",
      "\u001b[34m[10/09/2023 10:56:57 INFO 140606550820672] Epoch[9] Train-accuracy=0.839718\u001b[0m\n",
      "\u001b[34m[10/09/2023 10:56:57 INFO 140606550820672] Epoch[9] Time cost=5.023\u001b[0m\n",
      "\u001b[34m[10/09/2023 10:56:57 INFO 140606550820672] Epoch[9] Validation-accuracy=0.791667\u001b[0m\n",
      "\u001b[34m[10/09/2023 10:57:01 INFO 140606550820672] Epoch[10] Batch [20]#011Speed: 189.592 samples/sec#011accuracy=0.876488\u001b[0m\n",
      "\u001b[34m[10/09/2023 10:57:03 INFO 140606550820672] Epoch[10] Train-accuracy=0.873992\u001b[0m\n",
      "\u001b[34m[10/09/2023 10:57:03 INFO 140606550820672] Epoch[10] Time cost=5.104\u001b[0m\n",
      "\u001b[34m[10/09/2023 10:57:03 INFO 140606550820672] Epoch[10] Validation-accuracy=0.843750\u001b[0m\n",
      "\u001b[34m[10/09/2023 10:57:04 INFO 140606550820672] Storing the best model with validation accuracy: 0.843750\u001b[0m\n",
      "\u001b[34m[10/09/2023 10:57:04 INFO 140606550820672] Saved checkpoint to \"/opt/ml/model/image-classification-0011.params\"\u001b[0m\n",
      "\u001b[34m[10/09/2023 10:57:07 INFO 140606550820672] Epoch[11] Batch [20]#011Speed: 190.079 samples/sec#011accuracy=0.864583\u001b[0m\n",
      "\u001b[34m[10/09/2023 10:57:09 INFO 140606550820672] Epoch[11] Train-accuracy=0.865927\u001b[0m\n",
      "\u001b[34m[10/09/2023 10:57:09 INFO 140606550820672] Epoch[11] Time cost=5.037\u001b[0m\n",
      "\u001b[34m[10/09/2023 10:57:10 INFO 140606550820672] Epoch[11] Validation-accuracy=0.834821\u001b[0m\n",
      "\u001b[34m[10/09/2023 10:57:14 INFO 140606550820672] Epoch[12] Batch [20]#011Speed: 188.319 samples/sec#011accuracy=0.897321\u001b[0m\n",
      "\u001b[34m[10/09/2023 10:57:15 INFO 140606550820672] Epoch[12] Train-accuracy=0.892137\u001b[0m\n",
      "\u001b[34m[10/09/2023 10:57:15 INFO 140606550820672] Epoch[12] Time cost=5.036\u001b[0m\n",
      "\u001b[34m[10/09/2023 10:57:16 INFO 140606550820672] Epoch[12] Validation-accuracy=0.817708\u001b[0m\n",
      "\u001b[34m[10/09/2023 10:57:19 INFO 140606550820672] Epoch[13] Batch [20]#011Speed: 189.323 samples/sec#011accuracy=0.886905\u001b[0m\n",
      "\u001b[34m[10/09/2023 10:57:21 INFO 140606550820672] Epoch[13] Train-accuracy=0.893145\u001b[0m\n",
      "\u001b[34m[10/09/2023 10:57:21 INFO 140606550820672] Epoch[13] Time cost=5.041\u001b[0m\n",
      "\u001b[34m[10/09/2023 10:57:22 INFO 140606550820672] Epoch[13] Validation-accuracy=0.833333\u001b[0m\n",
      "\u001b[34m[10/09/2023 10:57:26 INFO 140606550820672] Epoch[14] Batch [20]#011Speed: 189.577 samples/sec#011accuracy=0.919643\u001b[0m\n",
      "\u001b[34m[10/09/2023 10:57:27 INFO 140606550820672] Epoch[14] Train-accuracy=0.909274\u001b[0m\n",
      "\u001b[34m[10/09/2023 10:57:27 INFO 140606550820672] Epoch[14] Time cost=5.025\u001b[0m\n",
      "\u001b[34m[10/09/2023 10:57:28 INFO 140606550820672] Epoch[14] Validation-accuracy=0.859375\u001b[0m\n",
      "\u001b[34m[10/09/2023 10:57:28 INFO 140606550820672] Storing the best model with validation accuracy: 0.859375\u001b[0m\n",
      "\u001b[34m[10/09/2023 10:57:28 INFO 140606550820672] Saved checkpoint to \"/opt/ml/model/image-classification-0015.params\"\u001b[0m\n",
      "\u001b[34m[10/09/2023 10:57:32 INFO 140606550820672] Epoch[15] Batch [20]#011Speed: 189.950 samples/sec#011accuracy=0.901786\u001b[0m\n",
      "\u001b[34m[10/09/2023 10:57:33 INFO 140606550820672] Epoch[15] Train-accuracy=0.904234\u001b[0m\n",
      "\u001b[34m[10/09/2023 10:57:33 INFO 140606550820672] Epoch[15] Time cost=5.045\u001b[0m\n",
      "\u001b[34m[10/09/2023 10:57:34 INFO 140606550820672] Epoch[15] Validation-accuracy=0.816964\u001b[0m\n",
      "\u001b[34m[10/09/2023 10:57:38 INFO 140606550820672] Epoch[16] Batch [20]#011Speed: 189.113 samples/sec#011accuracy=0.919643\u001b[0m\n",
      "\u001b[34m[10/09/2023 10:57:39 INFO 140606550820672] Epoch[16] Train-accuracy=0.916331\u001b[0m\n",
      "\u001b[34m[10/09/2023 10:57:39 INFO 140606550820672] Epoch[16] Time cost=5.028\u001b[0m\n",
      "\u001b[34m[10/09/2023 10:57:40 INFO 140606550820672] Epoch[16] Validation-accuracy=0.812500\u001b[0m\n",
      "\u001b[34m[10/09/2023 10:57:44 INFO 140606550820672] Epoch[17] Batch [20]#011Speed: 188.704 samples/sec#011accuracy=0.913690\u001b[0m\n",
      "\u001b[34m[10/09/2023 10:57:45 INFO 140606550820672] Epoch[17] Train-accuracy=0.922379\u001b[0m\n",
      "\u001b[34m[10/09/2023 10:57:45 INFO 140606550820672] Epoch[17] Time cost=5.050\u001b[0m\n",
      "\u001b[34m[10/09/2023 10:57:46 INFO 140606550820672] Epoch[17] Validation-accuracy=0.838542\u001b[0m\n",
      "\u001b[34m[10/09/2023 10:57:50 INFO 140606550820672] Epoch[18] Batch [20]#011Speed: 191.190 samples/sec#011accuracy=0.930060\u001b[0m\n",
      "\u001b[34m[10/09/2023 10:57:51 INFO 140606550820672] Epoch[18] Train-accuracy=0.927419\u001b[0m\n",
      "\u001b[34m[10/09/2023 10:57:51 INFO 140606550820672] Epoch[18] Time cost=4.998\u001b[0m\n",
      "\u001b[34m[10/09/2023 10:57:52 INFO 140606550820672] Epoch[18] Validation-accuracy=0.838542\u001b[0m\n",
      "\u001b[34m[10/09/2023 10:57:56 INFO 140606550820672] Epoch[19] Batch [20]#011Speed: 189.205 samples/sec#011accuracy=0.947917\u001b[0m\n",
      "\u001b[34m[10/09/2023 10:57:57 INFO 140606550820672] Epoch[19] Train-accuracy=0.936492\u001b[0m\n",
      "\u001b[34m[10/09/2023 10:57:57 INFO 140606550820672] Epoch[19] Time cost=5.029\u001b[0m\n",
      "\u001b[34m[10/09/2023 10:57:58 INFO 140606550820672] Epoch[19] Validation-accuracy=0.799107\u001b[0m\n",
      "\u001b[34m[10/09/2023 10:58:02 INFO 140606550820672] Epoch[20] Batch [20]#011Speed: 186.483 samples/sec#011accuracy=0.936012\u001b[0m\n",
      "\u001b[34m[10/09/2023 10:58:04 INFO 140606550820672] Epoch[20] Train-accuracy=0.933468\u001b[0m\n",
      "\u001b[34m[10/09/2023 10:58:04 INFO 140606550820672] Epoch[20] Time cost=5.164\u001b[0m\n",
      "\u001b[34m[10/09/2023 10:58:04 INFO 140606550820672] Epoch[20] Validation-accuracy=0.807292\u001b[0m\n",
      "\u001b[34m[10/09/2023 10:58:08 INFO 140606550820672] Epoch[21] Batch [20]#011Speed: 189.678 samples/sec#011accuracy=0.952381\u001b[0m\n",
      "\u001b[34m[10/09/2023 10:58:10 INFO 140606550820672] Epoch[21] Train-accuracy=0.956653\u001b[0m\n",
      "\u001b[34m[10/09/2023 10:58:10 INFO 140606550820672] Epoch[21] Time cost=5.026\u001b[0m\n",
      "\u001b[34m[10/09/2023 10:58:10 INFO 140606550820672] Epoch[21] Validation-accuracy=0.807292\u001b[0m\n",
      "\u001b[34m[10/09/2023 10:58:14 INFO 140606550820672] Epoch[22] Batch [20]#011Speed: 189.748 samples/sec#011accuracy=0.938988\u001b[0m\n",
      "\u001b[34m[10/09/2023 10:58:16 INFO 140606550820672] Epoch[22] Train-accuracy=0.927419\u001b[0m\n",
      "\u001b[34m[10/09/2023 10:58:16 INFO 140606550820672] Epoch[22] Time cost=5.016\u001b[0m\n",
      "\u001b[34m[10/09/2023 10:58:16 INFO 140606550820672] Epoch[22] Validation-accuracy=0.828125\u001b[0m\n",
      "\u001b[34m[10/09/2023 10:58:20 INFO 140606550820672] Epoch[23] Batch [20]#011Speed: 190.711 samples/sec#011accuracy=0.959821\u001b[0m\n",
      "\u001b[34m[10/09/2023 10:58:22 INFO 140606550820672] Epoch[23] Train-accuracy=0.956653\u001b[0m\n",
      "\u001b[34m[10/09/2023 10:58:22 INFO 140606550820672] Epoch[23] Time cost=5.024\u001b[0m\n",
      "\u001b[34m[10/09/2023 10:58:22 INFO 140606550820672] Epoch[23] Validation-accuracy=0.812500\u001b[0m\n",
      "\u001b[34m[10/09/2023 10:58:26 INFO 140606550820672] Epoch[24] Batch [20]#011Speed: 190.361 samples/sec#011accuracy=0.937500\u001b[0m\n",
      "\u001b[34m[10/09/2023 10:58:28 INFO 140606550820672] Epoch[24] Train-accuracy=0.937500\u001b[0m\n",
      "\u001b[34m[10/09/2023 10:58:28 INFO 140606550820672] Epoch[24] Time cost=5.014\u001b[0m\n",
      "\u001b[34m[10/09/2023 10:58:28 INFO 140606550820672] Epoch[24] Validation-accuracy=0.822917\u001b[0m\n",
      "\u001b[34m[10/09/2023 10:58:32 INFO 140606550820672] Epoch[25] Batch [20]#011Speed: 189.621 samples/sec#011accuracy=0.965774\u001b[0m\n",
      "\u001b[34m[10/09/2023 10:58:34 INFO 140606550820672] Epoch[25] Train-accuracy=0.968750\u001b[0m\n",
      "\u001b[34m[10/09/2023 10:58:34 INFO 140606550820672] Epoch[25] Time cost=5.031\u001b[0m\n",
      "\u001b[34m[10/09/2023 10:58:34 INFO 140606550820672] Epoch[25] Validation-accuracy=0.812500\u001b[0m\n",
      "\u001b[34m[10/09/2023 10:58:38 INFO 140606550820672] Epoch[26] Batch [20]#011Speed: 190.478 samples/sec#011accuracy=0.949405\u001b[0m\n",
      "\u001b[34m[10/09/2023 10:58:40 INFO 140606550820672] Epoch[26] Train-accuracy=0.949597\u001b[0m\n",
      "\u001b[34m[10/09/2023 10:58:40 INFO 140606550820672] Epoch[26] Time cost=5.007\u001b[0m\n",
      "\u001b[34m[10/09/2023 10:58:40 INFO 140606550820672] Epoch[26] Validation-accuracy=0.796875\u001b[0m\n",
      "\u001b[34m[10/09/2023 10:58:44 INFO 140606550820672] Epoch[27] Batch [20]#011Speed: 188.879 samples/sec#011accuracy=0.974702\u001b[0m\n",
      "\u001b[34m[10/09/2023 10:58:46 INFO 140606550820672] Epoch[27] Train-accuracy=0.977823\u001b[0m\n",
      "\u001b[34m[10/09/2023 10:58:46 INFO 140606550820672] Epoch[27] Time cost=5.017\u001b[0m\n",
      "\u001b[34m[10/09/2023 10:58:46 INFO 140606550820672] Epoch[27] Validation-accuracy=0.799107\u001b[0m\n",
      "\u001b[34m[10/09/2023 10:58:50 INFO 140606550820672] Epoch[28] Batch [20]#011Speed: 189.936 samples/sec#011accuracy=0.976190\u001b[0m\n",
      "\u001b[34m[10/09/2023 10:58:52 INFO 140606550820672] Epoch[28] Train-accuracy=0.974798\u001b[0m\n",
      "\u001b[34m[10/09/2023 10:58:52 INFO 140606550820672] Epoch[28] Time cost=5.005\u001b[0m\n",
      "\u001b[34m[10/09/2023 10:58:52 INFO 140606550820672] Epoch[28] Validation-accuracy=0.802083\u001b[0m\n",
      "\u001b[34m[10/09/2023 10:58:56 INFO 140606550820672] Epoch[29] Batch [20]#011Speed: 190.262 samples/sec#011accuracy=0.986607\u001b[0m\n",
      "\u001b[34m[10/09/2023 10:58:58 INFO 140606550820672] Epoch[29] Train-accuracy=0.985887\u001b[0m\n",
      "\u001b[34m[10/09/2023 10:58:58 INFO 140606550820672] Epoch[29] Time cost=5.006\u001b[0m\n",
      "\u001b[34m[10/09/2023 10:58:58 INFO 140606550820672] Epoch[29] Validation-accuracy=0.848958\u001b[0m\n",
      "\n",
      "2023-10-09 10:59:04 Uploading - Uploading generated training model\n",
      "2023-10-09 10:59:30 Completed - Training job completed\n",
      "Training seconds: 513\n",
      "Billable seconds: 513\n"
     ]
    }
   ],
   "source": [
    "## TODO: train your model\n",
    "img_classifier_model.fit(model_inputs)"
   ]
  },
  {
   "cell_type": "markdown",
   "metadata": {},
   "source": [
    "If all goes well, you'll end up with a model topping out above `.8` validation accuracy. With only 1000 training samples in the CIFAR dataset, that's pretty good. We could definitely pursue data augmentation & gathering more samples to help us improve further, but for now let's proceed to deploy our model.\n",
    "\n",
    "### Getting ready to deploy\n",
    "\n",
    "To begin with, let's configure Model Monitor to track our deployment. We'll define a `DataCaptureConfig` below:"
   ]
  },
  {
   "cell_type": "code",
   "execution_count": 20,
   "metadata": {},
   "outputs": [],
   "source": [
    "from sagemaker.model_monitor import DataCaptureConfig\n",
    "\n",
    "data_capture_config = DataCaptureConfig(\n",
    "    enable_capture=True,\n",
    "    sampling_percentage=100,\n",
    "    destination_s3_uri=f\"s3://{bucket}/data_capture\"\n",
    ")"
   ]
  },
  {
   "cell_type": "markdown",
   "metadata": {},
   "source": [
    "Note the `destination_s3_uri` parameter: At the end of the project, we can explore the `data_capture` directory in S3 to find crucial data about the inputs and outputs Model Monitor has observed on our model endpoint over time.\n",
    "\n",
    "With that done, deploy your model on a single `ml.m5.xlarge` instance with the data capture config attached:"
   ]
  },
  {
   "cell_type": "code",
   "execution_count": 21,
   "metadata": {},
   "outputs": [
    {
     "name": "stderr",
     "output_type": "stream",
     "text": [
      "INFO:sagemaker:Creating model with name: image-classification-2023-10-09-11-04-38-053\n",
      "INFO:sagemaker:Creating endpoint-config with name image-classification-2023-10-09-11-04-38-053\n",
      "INFO:sagemaker:Creating endpoint with name image-classification-2023-10-09-11-04-38-053\n"
     ]
    },
    {
     "name": "stdout",
     "output_type": "stream",
     "text": [
      "---------!image-classification-2023-10-09-11-04-38-053\n"
     ]
    }
   ],
   "source": [
    "deployment = img_classifier_model.deploy(\n",
    "    initial_instance_count=1,\n",
    "    instance_type='ml.m5.xlarge',\n",
    "    data_capture_config=data_capture_config\n",
    "    )\n",
    "\n",
    "endpoint = deployment.endpoint_name\n",
    "print(endpoint)"
   ]
  },
  {
   "cell_type": "markdown",
   "metadata": {},
   "source": [
    "Note the endpoint name for later as well.\n",
    "\n",
    "Next, instantiate a Predictor:"
   ]
  },
  {
   "cell_type": "code",
   "execution_count": 22,
   "metadata": {},
   "outputs": [],
   "source": [
    "from sagemaker.predictor import Predictor\n",
    "predictor = Predictor(endpoint_name=endpoint) "
   ]
  },
  {
   "cell_type": "markdown",
   "metadata": {},
   "source": [
    "In the code snippet below we are going to prepare one of your saved images for prediction. Use the predictor to process the `payload`."
   ]
  },
  {
   "cell_type": "code",
   "execution_count": 25,
   "metadata": {},
   "outputs": [],
   "source": [
    "from sagemaker.serializers import IdentitySerializer\n",
    "import base64\n",
    "\n",
    "predictor.serializer = IdentitySerializer(\"image/png\")\n",
    "with open(\"./test/bicycle_s_001789.png\", \"rb\") as f:\n",
    "    payload = f.read()\n",
    "\n",
    "    \n",
    "inference = predictor.predict(payload)"
   ]
  },
  {
   "cell_type": "markdown",
   "metadata": {},
   "source": [
    "Your `inference` object is an array of two values, the predicted probability value for each of your classes (bicycle and motorcycle respectively.) So, for example, a value of `b'[0.91, 0.09]'` indicates the probability of being a bike is 91% and being a motorcycle is 9%."
   ]
  },
  {
   "cell_type": "code",
   "execution_count": 26,
   "metadata": {},
   "outputs": [
    {
     "name": "stdout",
     "output_type": "stream",
     "text": [
      "b'[0.899665117263794, 0.10033489018678665]'\n"
     ]
    }
   ],
   "source": [
    "print(inference)"
   ]
  },
  {
   "cell_type": "code",
   "execution_count": 33,
   "metadata": {
    "tags": []
   },
   "outputs": [
    {
     "data": {
      "text/plain": [
       "0.899665117263794"
      ]
     },
     "execution_count": 33,
     "metadata": {},
     "output_type": "execute_result"
    }
   ],
   "source": [
    "import json \n",
    "json.loads(inference.decode('utf-8'))[0]"
   ]
  },
  {
   "cell_type": "markdown",
   "metadata": {},
   "source": [
    "### Draft Lambdas and Step Function Workflow\n",
    "\n",
    "Your operations team uses Step Functions to orchestrate serverless workflows. One of the nice things about Step Functions is that [workflows can call other workflows](https://docs.aws.amazon.com/step-functions/latest/dg/connect-stepfunctions.html), so the team can easily plug your workflow into the broader production architecture for Scones Unlimited.\n",
    "\n",
    "In this next stage you're going to write and deploy three Lambda functions, and then use the Step Functions visual editor to chain them together! Our functions are going to work with a simple data object:\n",
    "\n",
    "```python\n",
    "{\n",
    "    \"s3_bucket\": \"\", # Source data S3 bucket\n",
    "    \"s3_key\": \"\", # Source data S3 key\n",
    "    \"image_data\": \"\",  # base64 encoded string containing the image data\n",
    "    \"inferences\": [] # Output of predictor.predict\n",
    "}\n",
    "```\n",
    "\n",
    "A good test object that you can use for Lambda tests and Step Function executions, throughout the next section, might look like this:\n",
    "\n",
    "```python\n",
    "{\n",
    "  \"s3_bucket\": MY_BUCKET_NAME, # Fill in with your bucket\n",
    "  \"s3_key\": \"test/bicycle_s_000513.png\",\n",
    "  \"image_data\": \"\"\n",
    "}\n",
    "```\n",
    "\n",
    "Using these fields, your functions can read and write the necessary data to execute your workflow. Let's start with the first function. Your first Lambda function will copy an object from S3, base64 encode it, and then return it to the step function as `image_data` in an event.\n",
    "\n",
    "Go to the Lambda dashboard and create a new Lambda function with a descriptive name like \"serializeImageData\" and select thr 'Python 3.9' runtime. Add the same permissions as the SageMaker role you created earlier. (Reminder: you do this in the Configuration tab under \"Permissions\"). Once you're ready, use the starter code below to craft your Lambda handler:\n",
    "\n",
    "```python\n",
    "import json\n",
    "import boto3\n",
    "import base64\n",
    "\n",
    "s3 = boto3.client('s3')\n",
    "\n",
    "def lambda_handler(event, context):\n",
    "    \"\"\"A function to serialize target data from S3\"\"\"\n",
    "    \n",
    "    # Get the s3 address from the Step Function event input\n",
    "    key = ## TODO: fill in\n",
    "    bucket = ## TODO: fill in\n",
    "    \n",
    "    # Download the data from s3 to /tmp/image.png\n",
    "    ## TODO: fill in\n",
    "    \n",
    "    # We read the data from a file\n",
    "    with open(\"/tmp/image.png\", \"rb\") as f:\n",
    "        image_data = base64.b64encode(f.read())\n",
    "\n",
    "    # Pass the data back to the Step Function\n",
    "    print(\"Event:\", event.keys())\n",
    "    return {\n",
    "        'statusCode': 200,\n",
    "        'body': {\n",
    "            \"s3_bucket\": bucket,\n",
    "            \"s3_key\": key,\n",
    "            \"image_data\": image_data,\n",
    "            \"inferences\": []\n",
    "        }\n",
    "    }\n",
    "```\n",
    "\n",
    "The next function is responsible for the classification part - we're going to take the image output from the previous function, decode it, and then pass inferences back to the the Step Function.\n",
    "\n",
    "Because this Lambda will have runtime dependencies (i.e. the SageMaker SDK) you'll need to package them in your function. *Key reading:* https://docs.aws.amazon.com/lambda/latest/dg/python-package-create.html#python-package-create-with-dependency\n",
    "\n",
    "Create a new Lambda function with the same rights and a descriptive name, then fill in the starter code below for your classifier Lambda.\n",
    "\n",
    "```python\n",
    "import json\n",
    "import sagemaker\n",
    "import base64\n",
    "from sagemaker.serializers import IdentitySerializer\n",
    "\n",
    "# Fill this in with the name of your deployed model\n",
    "ENDPOINT = ## TODO: fill in\n",
    "\n",
    "def lambda_handler(event, context):\n",
    "\n",
    "    # Decode the image data\n",
    "    image = base64.b64decode(## TODO: fill in)\n",
    "\n",
    "    # Instantiate a Predictor\n",
    "    predictor = ## TODO: fill in\n",
    "\n",
    "    # For this model the IdentitySerializer needs to be \"image/png\"\n",
    "    predictor.serializer = IdentitySerializer(\"image/png\")\n",
    "    \n",
    "    # Make a prediction:\n",
    "    inferences = ## TODO: fill in\n",
    "    \n",
    "    # We return the data back to the Step Function    \n",
    "    event[\"body\"][\"inferences\"] = inferences.decode('utf-8')\n",
    "    return {\n",
    "        'statusCode': 200,\n",
    "        'body': json.dumps(event[\"body\"])\n",
    "    }\n",
    "```\n",
    "\n",
    "Finally, we need to filter low-confidence inferences. Define a threshold between 1.00 and 0.000 for your model: what is reasonble for you? If the model predicts at `.70` for it's highest confidence label, do we want to pass that inference along to downstream systems? Make one last Lambda function and tee up the same permissions:\n",
    "\n",
    "```python\n",
    "import json\n",
    "\n",
    "\n",
    "THRESHOLD = .93\n",
    "\n",
    "\n",
    "def lambda_handler(event, context):\n",
    "    \n",
    "    # Grab the inferences from the event\n",
    "    inferences = ## TODO: fill in\n",
    "    \n",
    "    # Check if any values in our inferences are above THRESHOLD\n",
    "    meets_threshold = ## TODO: fill in\n",
    "    \n",
    "    # If our threshold is met, pass our data back out of the\n",
    "    # Step Function, else, end the Step Function with an error\n",
    "    if meets_threshold:\n",
    "        pass\n",
    "    else:\n",
    "        raise(\"THRESHOLD_CONFIDENCE_NOT_MET\")\n",
    "\n",
    "    return {\n",
    "        'statusCode': 200,\n",
    "        'body': json.dumps(event[\"body\"])\n",
    "    }\n",
    "```\n",
    "Once you have tested the lambda functions, save the code for each lambda function in a python script called 'lambda.py'.\n",
    "\n",
    "With your lambdas in place, you can use the Step Functions visual editor to construct a workflow that chains them together. In the Step Functions console you'll have the option to author a Standard step function *Visually*.\n",
    "\n",
    "When the visual editor opens, you'll have many options to add transitions in your workflow. We're going to keep it simple and have just one: to invoke Lambda functions. Add three of them chained together. For each one, you'll be able to select the Lambda functions you just created in the proper order, filter inputs and outputs, and give them descriptive names.\n",
    "\n",
    "Make sure that you:\n",
    "\n",
    "1. Are properly filtering the inputs and outputs of your invokations (e.g. `$.body`)\n",
    "2. Take care to remove the error handling from the last function - it's supposed to \"fail loudly\" for your operations colleagues!\n",
    "\n",
    "Take a screenshot of your working step function in action and export the step function as JSON for your submission package."
   ]
  },
  {
   "cell_type": "markdown",
   "metadata": {},
   "source": [
    "\n",
    "Great! Now you can use the files in `./test` as test files for our workflow. Depending on our threshold, our workflow should reliably pass predictions about images from `./test` on to downstream systems, while erroring out for inferences below our confidence threshold!\n",
    "\n",
    "### Testing and Evaluation\n",
    "\n",
    "Do several step function invokations using data from the `./test` folder. This process should give you confidence that the workflow both *succeeds* AND *fails* as expected. In addition, SageMaker Model Monitor will generate recordings of your data and inferences which we can visualize.\n",
    "\n",
    "Here's a function that can help you generate test inputs for your invokations:"
   ]
  },
  {
   "cell_type": "code",
   "execution_count": 22,
   "metadata": {},
   "outputs": [
    {
     "name": "stdout",
     "output_type": "stream",
     "text": [
      "{\"image_data\": \"\", \"s3_bucket\": \"project43547\", \"s3_key\": \"test/motorcycle_s_001687.png\"}\n",
      "{\"image_data\": \"\", \"s3_bucket\": \"project43547\", \"s3_key\": \"test/motorcycle_s_001955.png\"}\n",
      "{\"image_data\": \"\", \"s3_bucket\": \"project43547\", \"s3_key\": \"test/motorbike_s_000324.png\"}\n",
      "{\"image_data\": \"\", \"s3_bucket\": \"project43547\", \"s3_key\": \"test/safety_bike_s_001087.png\"}\n",
      "{\"image_data\": \"\", \"s3_bucket\": \"project43547\", \"s3_key\": \"test/velocipede_s_001277.png\"}\n",
      "{\"image_data\": \"\", \"s3_bucket\": \"project43547\", \"s3_key\": \"test/cycle_s_001915.png\"}\n",
      "{\"image_data\": \"\", \"s3_bucket\": \"project43547\", \"s3_key\": \"test/minibike_s_000960.png\"}\n",
      "{\"image_data\": \"\", \"s3_bucket\": \"project43547\", \"s3_key\": \"test/safety_bike_s_000791.png\"}\n",
      "{\"image_data\": \"\", \"s3_bucket\": \"project43547\", \"s3_key\": \"test/motorcycle_s_000866.png\"}\n",
      "{\"image_data\": \"\", \"s3_bucket\": \"project43547\", \"s3_key\": \"test/bike_s_001073.png\"}\n"
     ]
    }
   ],
   "source": [
    "import random\n",
    "import boto3\n",
    "import json\n",
    "\n",
    "\n",
    "def generate_test_case():\n",
    "    # Setup s3 in boto3\n",
    "    s3 = boto3.resource('s3')\n",
    "    \n",
    "    # Randomly pick from sfn or test folders in our bucket\n",
    "    objects = s3.Bucket(bucket).objects.filter(Prefix = \"test\")\n",
    "    \n",
    "    # Grab any random object key from that folder!\n",
    "    obj = random.choice([x.key for x in objects])\n",
    "    \n",
    "    return json.dumps({\n",
    "        \"image_data\": \"\",\n",
    "        \"s3_bucket\": bucket,\n",
    "        \"s3_key\": obj\n",
    "    })\n",
    "for _ in range(10):\n",
    "    print(generate_test_case())"
   ]
  },
  {
   "cell_type": "markdown",
   "metadata": {},
   "source": [
    "In the Step Function dashboard for your new function, you can create new executions and copy in the generated test cases. Do several executions so that you can generate data you can evaluate and visualize.\n",
    "\n",
    "Once you've done several executions, let's visualize the record of our inferences. Pull in the JSONLines data from your inferences like so:"
   ]
  },
  {
   "cell_type": "code",
   "execution_count": 27,
   "metadata": {},
   "outputs": [
    {
     "data": {
      "text/plain": [
       "['captured_data/45-35-168-62c5ca9a-f277-41ee-a3b2-1c7d6d49fd77.jsonl']"
      ]
     },
     "execution_count": 27,
     "metadata": {},
     "output_type": "execute_result"
    }
   ],
   "source": [
    "from sagemaker.s3 import S3Downloader\n",
    "\n",
    "# In S3 your data will be saved to a datetime-aware path\n",
    "# Find a path related to a datetime you're interested in\n",
    "data_path = \"s3://project43547/data_capture/image-classification-2023-10-09-11-04-38-053/AllTraffic/2023/10/09/14/45-35-168-62c5ca9a-f277-41ee-a3b2-1c7d6d49fd77.jsonl\"\n",
    "\n",
    "S3Downloader.download(data_path, \"captured_data\")\n",
    "\n",
    "# Feel free to repeat this multiple times and pull in more data"
   ]
  },
  {
   "cell_type": "markdown",
   "metadata": {},
   "source": [
    "The data are in JSONLines format, where multiple valid JSON objects are stacked on top of eachother in a single `jsonl` file. We'll import an open-source library, `jsonlines` that was purpose built for parsing this format."
   ]
  },
  {
   "cell_type": "code",
   "execution_count": 28,
   "metadata": {},
   "outputs": [
    {
     "name": "stdout",
     "output_type": "stream",
     "text": [
      "Requirement already satisfied: jsonlines in /opt/conda/lib/python3.7/site-packages (3.1.0)\n",
      "Requirement already satisfied: attrs>=19.2.0 in /opt/conda/lib/python3.7/site-packages (from jsonlines) (23.1.0)\n",
      "Requirement already satisfied: typing-extensions in /opt/conda/lib/python3.7/site-packages (from jsonlines) (4.7.1)\n",
      "Requirement already satisfied: importlib-metadata in /opt/conda/lib/python3.7/site-packages (from attrs>=19.2.0->jsonlines) (6.7.0)\n",
      "Requirement already satisfied: zipp>=0.5 in /opt/conda/lib/python3.7/site-packages (from importlib-metadata->attrs>=19.2.0->jsonlines) (2.2.0)\n",
      "\u001b[33mDEPRECATION: pyodbc 4.0.0-unsupported has a non-standard version number. pip 23.3 will enforce this behaviour change. A possible replacement is to upgrade to a newer version of pyodbc or contact the author to suggest that they release a version with a conforming version number. Discussion can be found at https://github.com/pypa/pip/issues/12063\u001b[0m\u001b[33m\n",
      "\u001b[0m\u001b[33mWARNING: Running pip as the 'root' user can result in broken permissions and conflicting behaviour with the system package manager. It is recommended to use a virtual environment instead: https://pip.pypa.io/warnings/venv\u001b[0m\u001b[33m\n",
      "\u001b[0m"
     ]
    }
   ],
   "source": [
    "!pip install jsonlines\n",
    "import jsonlines"
   ]
  },
  {
   "cell_type": "markdown",
   "metadata": {},
   "source": [
    "Now we can extract the data from each of the source files:"
   ]
  },
  {
   "cell_type": "code",
   "execution_count": 29,
   "metadata": {},
   "outputs": [],
   "source": [
    "import os\n",
    "\n",
    "# List the file names we downloaded\n",
    "file_handles = []\n",
    "for root, subFolders, files in os.walk(\"./captured_data\"):\n",
    "    if files:\n",
    "        file_handles += [root + '/' + file for file in files]\n",
    "\n",
    "# Dump all the data into an array\n",
    "json_data = []\n",
    "for jsonl in file_handles:\n",
    "    with jsonlines.open(jsonl) as f:\n",
    "        json_data.append(f.read())"
   ]
  },
  {
   "cell_type": "code",
   "execution_count": 30,
   "metadata": {
    "tags": []
   },
   "outputs": [
    {
     "data": {
      "text/plain": [
       "4"
      ]
     },
     "execution_count": 30,
     "metadata": {},
     "output_type": "execute_result"
    }
   ],
   "source": [
    "len(json_data)"
   ]
  },
  {
   "cell_type": "markdown",
   "metadata": {},
   "source": [
    "The data should now be a list of dictionaries, with significant nesting. We'll give you an example of some code that grabs data out of the objects and visualizes it:"
   ]
  },
  {
   "cell_type": "code",
   "execution_count": 31,
   "metadata": {},
   "outputs": [
    {
     "data": {
      "text/plain": [
       "([0.19269374012947083, 0.8073062896728516], '2023-10-09T14:45:35Z')"
      ]
     },
     "execution_count": 31,
     "metadata": {},
     "output_type": "execute_result"
    }
   ],
   "source": [
    "import json\n",
    "# Define how we'll get our data\n",
    "def simple_getter(obj):\n",
    "    inferences = obj[\"captureData\"][\"endpointOutput\"][\"data\"]\n",
    "    timestamp = obj[\"eventMetadata\"][\"inferenceTime\"]\n",
    "    return json.loads(inferences), timestamp\n",
    "\n",
    "simple_getter(json_data[0])"
   ]
  },
  {
   "cell_type": "markdown",
   "metadata": {},
   "source": [
    "Finally, here's an example of a visualization you can build with this data. In this last part, you will take some time and build your own - the captured data has the input images, the resulting inferences, and the timestamps."
   ]
  },
  {
   "cell_type": "code",
   "execution_count": 49,
   "metadata": {},
   "outputs": [
    {
     "name": "stdout",
     "output_type": "stream",
     "text": [
      "[0.19269374012947083, 0.8073062896728516] 2023-10-09T14:45:35Z\n",
      "[0.00012891106598544866, 0.999871015548706] 2023-10-09T14:44:29Z\n",
      "[0.9997603297233582, 0.00023970103939063847] 2023-10-09T14:46:38Z\n",
      "[0.35188746452331543, 0.6481124758720398] 2023-10-09T14:29:13Z\n"
     ]
    },
    {
     "data": {
      "image/png": "[encoded data removed]",
      "text/plain": [
       "<Figure size 640x480 with 1 Axes>"
      ]
     },
     "metadata": {},
     "output_type": "display_data"
    }
   ],
   "source": [
    "# Populate the data for the x and y axis\n",
    "x = []\n",
    "y = []\n",
    "for obj in json_data:\n",
    "    inference, timestamp = simple_getter(obj)\n",
    "    print(inference, timestamp)\n",
    "    y.append(max(inference))\n",
    "    x.append(timestamp)\n",
    "\n",
    "# Todo: here is an visualization example, take some time to build another visual that helps monitor the result\n",
    "# Plot the data\n",
    "plt.scatter(x, y, c=['r' if k<.85 else 'b' for k in y ])\n",
    "plt.axhline(y=0.85, color='g', linestyle='--')\n",
    "plt.ylim(bottom=.60)\n",
    "\n",
    "# Add labels\n",
    "plt.ylabel(\"Confidence\")\n",
    "plt.suptitle(\"Observed Recent Inferences\", size=14)\n",
    "plt.title(\"Pictured with confidence threshold for production use\", size=10)\n",
    "\n",
    "# Give it some pizzaz!\n",
    "plt.style.use(\"Solarize_Light2\")\n",
    "plt.gcf().autofmt_xdate()"
   ]
  },
  {
   "cell_type": "markdown",
   "metadata": {
    "tags": []
   },
   "source": [
    "### Todo: build your own visualization\n"
   ]
  },
  {
   "cell_type": "code",
   "execution_count": 52,
   "metadata": {
    "tags": []
   },
   "outputs": [
    {
     "name": "stdout",
     "output_type": "stream",
     "text": [
      "[0.19269374012947083, 0.8073062896728516] 2023-10-09T14:45:35Z\n",
      "[0.00012891106598544866, 0.999871015548706] 2023-10-09T14:44:29Z\n",
      "[0.9997603297233582, 0.00023970103939063847] 2023-10-09T14:46:38Z\n",
      "[0.35188746452331543, 0.6481124758720398] 2023-10-09T14:29:13Z\n"
     ]
    },
    {
     "data": {
      "image/png": "[encoded data removed]",
      "text/plain": [
       "<Figure size 640x480 with 1 Axes>"
      ]
     },
     "metadata": {},
     "output_type": "display_data"
    }
   ],
   "source": [
    "x = []\n",
    "y_max = []\n",
    "y_min = []\n",
    "idx_max = []\n",
    "for obj in json_data:\n",
    "    inference, timestamp = simple_getter(obj)\n",
    "    print(inference, timestamp)\n",
    "    y_max.append(max(inference))\n",
    "    y_min.append(min(inference))\n",
    "    x.append(timestamp)\n",
    "    idx_max.append(inference.index(max(inference)))\n",
    "    \n",
    "plt.xlabel('Time Stamp')\n",
    "plt.ylabel(\"Confidence\")\n",
    "plt.title('Inference results')\n",
    "plt.bar(x, y_max, color=['#619859' if k>=.85 else '#ECD483' for k in y ])\n",
    "plt.bar(x, y_min, color='#6F0F1F')\n",
    "\n",
    "for i in range(len(x)):\n",
    "    plt.text(x[i], y_max[i], 'Motorcycle' if idx_max[i]==1 else 'Bicycle' , ha='center', va='bottom')\n",
    "plt.axhline(y=0.85, color='g', linestyle='--')\n",
    "\n",
    "plt.style.use(\"Solarize_Light2\")\n",
    "plt.gcf().autofmt_xdate()"
   ]
  },
  {
   "cell_type": "markdown",
   "metadata": {},
   "source": [
    "### Congratulations!\n",
    "\n",
    "You've reached the end of the project. In this project you created an event-drivent ML workflow that can be incorporated into the Scones Unlimited production architecture. You used the SageMaker Estimator API to deploy your SageMaker Model and Endpoint, and you used AWS Lambda and Step Functions to orchestrate your ML workflow. Using SageMaker Model Monitor, you instrumented and observed your Endpoint, and at the end of the project you built a visualization to help stakeholders understand the performance of the Endpoint over time. If you're up for it, you can even go further with these stretch goals:\n",
    "\n",
    "* Extend your workflow to incorporate more classes: the CIFAR dataset includes other vehicles that Scones Unlimited can identify with this model.\n",
    "* Modify your event driven workflow: can you rewrite your Lambda functions so that the workflow can process multiple image inputs in parallel? Can the Step Function \"fan out\" to accomodate this new workflow?\n",
    "* Consider the test data generator we provided for you. Can we use it to create a \"dummy data\" generator, to simulate a continuous stream of input data? Or a big paralell load of data?\n",
    "* What if we want to get notified every time our step function errors out? Can we use the Step Functions visual editor in conjunction with a service like SNS to accomplish this? Try it out!\n",
    "\n",
    "\n"
   ]
  }
 ],
 "metadata": {
  "availableInstances": [
   {
    "_defaultOrder": 0,
    "_isFastLaunch": true,
    "category": "General purpose",
    "gpuNum": 0,
    "hideHardwareSpecs": false,
    "memoryGiB": 4,
    "name": "ml.t3.medium",
    "vcpuNum": 2
   },
   {
    "_defaultOrder": 1,
    "_isFastLaunch": false,
    "category": "General purpose",
    "gpuNum": 0,
    "hideHardwareSpecs": false,
    "memoryGiB": 8,
    "name": "ml.t3.large",
    "vcpuNum": 2
   },
   {
    "_defaultOrder": 2,
    "_isFastLaunch": false,
    "category": "General purpose",
    "gpuNum": 0,
    "hideHardwareSpecs": false,
    "memoryGiB": 16,
    "name": "ml.t3.xlarge",
    "vcpuNum": 4
   },
   {
    "_defaultOrder": 3,
    "_isFastLaunch": false,
    "category": "General purpose",
    "gpuNum": 0,
    "hideHardwareSpecs": false,
    "memoryGiB": 32,
    "name": "ml.t3.2xlarge",
    "vcpuNum": 8
   },
   {
    "_defaultOrder": 4,
    "_isFastLaunch": true,
    "category": "General purpose",
    "gpuNum": 0,
    "hideHardwareSpecs": false,
    "memoryGiB": 8,
    "name": "ml.m5.large",
    "vcpuNum": 2
   },
   {
    "_defaultOrder": 5,
    "_isFastLaunch": false,
    "category": "General purpose",
    "gpuNum": 0,
    "hideHardwareSpecs": false,
    "memoryGiB": 16,
    "name": "ml.m5.xlarge",
    "vcpuNum": 4
   },
   {
    "_defaultOrder": 6,
    "_isFastLaunch": false,
    "category": "General purpose",
    "gpuNum": 0,
    "hideHardwareSpecs": false,
    "memoryGiB": 32,
    "name": "ml.m5.2xlarge",
    "vcpuNum": 8
   },
   {
    "_defaultOrder": 7,
    "_isFastLaunch": false,
    "category": "General purpose",
    "gpuNum": 0,
    "hideHardwareSpecs": false,
    "memoryGiB": 64,
    "name": "ml.m5.4xlarge",
    "vcpuNum": 16
   },
   {
    "_defaultOrder": 8,
    "_isFastLaunch": false,
    "category": "General purpose",
    "gpuNum": 0,
    "hideHardwareSpecs": false,
    "memoryGiB": 128,
    "name": "ml.m5.8xlarge",
    "vcpuNum": 32
   },
   {
    "_defaultOrder": 9,
    "_isFastLaunch": false,
    "category": "General purpose",
    "gpuNum": 0,
    "hideHardwareSpecs": false,
    "memoryGiB": 192,
    "name": "ml.m5.12xlarge",
    "vcpuNum": 48
   },
   {
    "_defaultOrder": 10,
    "_isFastLaunch": false,
    "category": "General purpose",
    "gpuNum": 0,
    "hideHardwareSpecs": false,
    "memoryGiB": 256,
    "name": "ml.m5.16xlarge",
    "vcpuNum": 64
   },
   {
    "_defaultOrder": 11,
    "_isFastLaunch": false,
    "category": "General purpose",
    "gpuNum": 0,
    "hideHardwareSpecs": false,
    "memoryGiB": 384,
    "name": "ml.m5.24xlarge",
    "vcpuNum": 96
   },
   {
    "_defaultOrder": 12,
    "_isFastLaunch": false,
    "category": "General purpose",
    "gpuNum": 0,
    "hideHardwareSpecs": false,
    "memoryGiB": 8,
    "name": "ml.m5d.large",
    "vcpuNum": 2
   },
   {
    "_defaultOrder": 13,
    "_isFastLaunch": false,
    "category": "General purpose",
    "gpuNum": 0,
    "hideHardwareSpecs": false,
    "memoryGiB": 16,
    "name": "ml.m5d.xlarge",
    "vcpuNum": 4
   },
   {
    "_defaultOrder": 14,
    "_isFastLaunch": false,
    "category": "General purpose",
    "gpuNum": 0,
    "hideHardwareSpecs": false,
    "memoryGiB": 32,
    "name": "ml.m5d.2xlarge",
    "vcpuNum": 8
   },
   {
    "_defaultOrder": 15,
    "_isFastLaunch": false,
    "category": "General purpose",
    "gpuNum": 0,
    "hideHardwareSpecs": false,
    "memoryGiB": 64,
    "name": "ml.m5d.4xlarge",
    "vcpuNum": 16
   },
   {
    "_defaultOrder": 16,
    "_isFastLaunch": false,
    "category": "General purpose",
    "gpuNum": 0,
    "hideHardwareSpecs": false,
    "memoryGiB": 128,
    "name": "ml.m5d.8xlarge",
    "vcpuNum": 32
   },
   {
    "_defaultOrder": 17,
    "_isFastLaunch": false,
    "category": "General purpose",
    "gpuNum": 0,
    "hideHardwareSpecs": false,
    "memoryGiB": 192,
    "name": "ml.m5d.12xlarge",
    "vcpuNum": 48
   },
   {
    "_defaultOrder": 18,
    "_isFastLaunch": false,
    "category": "General purpose",
    "gpuNum": 0,
    "hideHardwareSpecs": false,
    "memoryGiB": 256,
    "name": "ml.m5d.16xlarge",
    "vcpuNum": 64
   },
   {
    "_defaultOrder": 19,
    "_isFastLaunch": false,
    "category": "General purpose",
    "gpuNum": 0,
    "hideHardwareSpecs": false,
    "memoryGiB": 384,
    "name": "ml.m5d.24xlarge",
    "vcpuNum": 96
   },
   {
    "_defaultOrder": 20,
    "_isFastLaunch": false,
    "category": "General purpose",
    "gpuNum": 0,
    "hideHardwareSpecs": true,
    "memoryGiB": 0,
    "name": "ml.geospatial.interactive",
    "supportedImageNames": [
     "sagemaker-geospatial-v1-0"
    ],
    "vcpuNum": 0
   },
   {
    "_defaultOrder": 21,
    "_isFastLaunch": true,
    "category": "Compute optimized",
    "gpuNum": 0,
    "hideHardwareSpecs": false,
    "memoryGiB": 4,
    "name": "ml.c5.large",
    "vcpuNum": 2
   },
   {
    "_defaultOrder": 22,
    "_isFastLaunch": false,
    "category": "Compute optimized",
    "gpuNum": 0,
    "hideHardwareSpecs": false,
    "memoryGiB": 8,
    "name": "ml.c5.xlarge",
    "vcpuNum": 4
   },
   {
    "_defaultOrder": 23,
    "_isFastLaunch": false,
    "category": "Compute optimized",
    "gpuNum": 0,
    "hideHardwareSpecs": false,
    "memoryGiB": 16,
    "name": "ml.c5.2xlarge",
    "vcpuNum": 8
   },
   {
    "_defaultOrder": 24,
    "_isFastLaunch": false,
    "category": "Compute optimized",
    "gpuNum": 0,
    "hideHardwareSpecs": false,
    "memoryGiB": 32,
    "name": "ml.c5.4xlarge",
    "vcpuNum": 16
   },
   {
    "_defaultOrder": 25,
    "_isFastLaunch": false,
    "category": "Compute optimized",
    "gpuNum": 0,
    "hideHardwareSpecs": false,
    "memoryGiB": 72,
    "name": "ml.c5.9xlarge",
    "vcpuNum": 36
   },
   {
    "_defaultOrder": 26,
    "_isFastLaunch": false,
    "category": "Compute optimized",
    "gpuNum": 0,
    "hideHardwareSpecs": false,
    "memoryGiB": 96,
    "name": "ml.c5.12xlarge",
    "vcpuNum": 48
   },
   {
    "_defaultOrder": 27,
    "_isFastLaunch": false,
    "category": "Compute optimized",
    "gpuNum": 0,
    "hideHardwareSpecs": false,
    "memoryGiB": 144,
    "name": "ml.c5.18xlarge",
    "vcpuNum": 72
   },
   {
    "_defaultOrder": 28,
    "_isFastLaunch": false,
    "category": "Compute optimized",
    "gpuNum": 0,
    "hideHardwareSpecs": false,
    "memoryGiB": 192,
    "name": "ml.c5.24xlarge",
    "vcpuNum": 96
   },
   {
    "_defaultOrder": 29,
    "_isFastLaunch": true,
    "category": "Accelerated computing",
    "gpuNum": 1,
    "hideHardwareSpecs": false,
    "memoryGiB": 16,
    "name": "ml.g4dn.xlarge",
    "vcpuNum": 4
   },
   {
    "_defaultOrder": 30,
    "_isFastLaunch": false,
    "category": "Accelerated computing",
    "gpuNum": 1,
    "hideHardwareSpecs": false,
    "memoryGiB": 32,
    "name": "ml.g4dn.2xlarge",
    "vcpuNum": 8
   },
   {
    "_defaultOrder": 31,
    "_isFastLaunch": false,
    "category": "Accelerated computing",
    "gpuNum": 1,
    "hideHardwareSpecs": false,
    "memoryGiB": 64,
    "name": "ml.g4dn.4xlarge",
    "vcpuNum": 16
   },
   {
    "_defaultOrder": 32,
    "_isFastLaunch": false,
    "category": "Accelerated computing",
    "gpuNum": 1,
    "hideHardwareSpecs": false,
    "memoryGiB": 128,
    "name": "ml.g4dn.8xlarge",
    "vcpuNum": 32
   },
   {
    "_defaultOrder": 33,
    "_isFastLaunch": false,
    "category": "Accelerated computing",
    "gpuNum": 4,
    "hideHardwareSpecs": false,
    "memoryGiB": 192,
    "name": "ml.g4dn.12xlarge",
    "vcpuNum": 48
   },
   {
    "_defaultOrder": 34,
    "_isFastLaunch": false,
    "category": "Accelerated computing",
    "gpuNum": 1,
    "hideHardwareSpecs": false,
    "memoryGiB": 256,
    "name": "ml.g4dn.16xlarge",
    "vcpuNum": 64
   },
   {
    "_defaultOrder": 35,
    "_isFastLaunch": false,
    "category": "Accelerated computing",
    "gpuNum": 1,
    "hideHardwareSpecs": false,
    "memoryGiB": 61,
    "name": "ml.p3.2xlarge",
    "vcpuNum": 8
   },
   {
    "_defaultOrder": 36,
    "_isFastLaunch": false,
    "category": "Accelerated computing",
    "gpuNum": 4,
    "hideHardwareSpecs": false,
    "memoryGiB": 244,
    "name": "ml.p3.8xlarge",
    "vcpuNum": 32
   },
   {
    "_defaultOrder": 37,
    "_isFastLaunch": false,
    "category": "Accelerated computing",
    "gpuNum": 8,
    "hideHardwareSpecs": false,
    "memoryGiB": 488,
    "name": "ml.p3.16xlarge",
    "vcpuNum": 64
   },
   {
    "_defaultOrder": 38,
    "_isFastLaunch": false,
    "category": "Accelerated computing",
    "gpuNum": 8,
    "hideHardwareSpecs": false,
    "memoryGiB": 768,
    "name": "ml.p3dn.24xlarge",
    "vcpuNum": 96
   },
   {
    "_defaultOrder": 39,
    "_isFastLaunch": false,
    "category": "Memory Optimized",
    "gpuNum": 0,
    "hideHardwareSpecs": false,
    "memoryGiB": 16,
    "name": "ml.r5.large",
    "vcpuNum": 2
   },
   {
    "_defaultOrder": 40,
    "_isFastLaunch": false,
    "category": "Memory Optimized",
    "gpuNum": 0,
    "hideHardwareSpecs": false,
    "memoryGiB": 32,
    "name": "ml.r5.xlarge",
    "vcpuNum": 4
   },
   {
    "_defaultOrder": 41,
    "_isFastLaunch": false,
    "category": "Memory Optimized",
    "gpuNum": 0,
    "hideHardwareSpecs": false,
    "memoryGiB": 64,
    "name": "ml.r5.2xlarge",
    "vcpuNum": 8
   },
   {
    "_defaultOrder": 42,
    "_isFastLaunch": false,
    "category": "Memory Optimized",
    "gpuNum": 0,
    "hideHardwareSpecs": false,
    "memoryGiB": 128,
    "name": "ml.r5.4xlarge",
    "vcpuNum": 16
   },
   {
    "_defaultOrder": 43,
    "_isFastLaunch": false,
    "category": "Memory Optimized",
    "gpuNum": 0,
    "hideHardwareSpecs": false,
    "memoryGiB": 256,
    "name": "ml.r5.8xlarge",
    "vcpuNum": 32
   },
   {
    "_defaultOrder": 44,
    "_isFastLaunch": false,
    "category": "Memory Optimized",
    "gpuNum": 0,
    "hideHardwareSpecs": false,
    "memoryGiB": 384,
    "name": "ml.r5.12xlarge",
    "vcpuNum": 48
   },
   {
    "_defaultOrder": 45,
    "_isFastLaunch": false,
    "category": "Memory Optimized",
    "gpuNum": 0,
    "hideHardwareSpecs": false,
    "memoryGiB": 512,
    "name": "ml.r5.16xlarge",
    "vcpuNum": 64
   },
   {
    "_defaultOrder": 46,
    "_isFastLaunch": false,
    "category": "Memory Optimized",
    "gpuNum": 0,
    "hideHardwareSpecs": false,
    "memoryGiB": 768,
    "name": "ml.r5.24xlarge",
    "vcpuNum": 96
   },
   {
    "_defaultOrder": 47,
    "_isFastLaunch": false,
    "category": "Accelerated computing",
    "gpuNum": 1,
    "hideHardwareSpecs": false,
    "memoryGiB": 16,
    "name": "ml.g5.xlarge",
    "vcpuNum": 4
   },
   {
    "_defaultOrder": 48,
    "_isFastLaunch": false,
    "category": "Accelerated computing",
    "gpuNum": 1,
    "hideHardwareSpecs": false,
    "memoryGiB": 32,
    "name": "ml.g5.2xlarge",
    "vcpuNum": 8
   },
   {
    "_defaultOrder": 49,
    "_isFastLaunch": false,
    "category": "Accelerated computing",
    "gpuNum": 1,
    "hideHardwareSpecs": false,
    "memoryGiB": 64,
    "name": "ml.g5.4xlarge",
    "vcpuNum": 16
   },
   {
    "_defaultOrder": 50,
    "_isFastLaunch": false,
    "category": "Accelerated computing",
    "gpuNum": 1,
    "hideHardwareSpecs": false,
    "memoryGiB": 128,
    "name": "ml.g5.8xlarge",
    "vcpuNum": 32
   },
   {
    "_defaultOrder": 51,
    "_isFastLaunch": false,
    "category": "Accelerated computing",
    "gpuNum": 1,
    "hideHardwareSpecs": false,
    "memoryGiB": 256,
    "name": "ml.g5.16xlarge",
    "vcpuNum": 64
   },
   {
    "_defaultOrder": 52,
    "_isFastLaunch": false,
    "category": "Accelerated computing",
    "gpuNum": 4,
    "hideHardwareSpecs": false,
    "memoryGiB": 192,
    "name": "ml.g5.12xlarge",
    "vcpuNum": 48
   },
   {
    "_defaultOrder": 53,
    "_isFastLaunch": false,
    "category": "Accelerated computing",
    "gpuNum": 4,
    "hideHardwareSpecs": false,
    "memoryGiB": 384,
    "name": "ml.g5.24xlarge",
    "vcpuNum": 96
   },
   {
    "_defaultOrder": 54,
    "_isFastLaunch": false,
    "category": "Accelerated computing",
    "gpuNum": 8,
    "hideHardwareSpecs": false,
    "memoryGiB": 768,
    "name": "ml.g5.48xlarge",
    "vcpuNum": 192
   },
   {
    "_defaultOrder": 55,
    "_isFastLaunch": false,
    "category": "Accelerated computing",
    "gpuNum": 8,
    "hideHardwareSpecs": false,
    "memoryGiB": 1152,
    "name": "ml.p4d.24xlarge",
    "vcpuNum": 96
   },
   {
    "_defaultOrder": 56,
    "_isFastLaunch": false,
    "category": "Accelerated computing",
    "gpuNum": 8,
    "hideHardwareSpecs": false,
    "memoryGiB": 1152,
    "name": "ml.p4de.24xlarge",
    "vcpuNum": 96
   }
  ],
  "instance_type": "ml.t3.medium",
  "kernelspec": {
   "display_name": "Python 3 (Data Science)",
   "language": "python",
   "name": "python3__SAGEMAKER_INTERNAL__arn:aws:sagemaker:us-east-1:081325390199:image/datascience-1.0"
  },
  "language_info": {
   "codemirror_mode": {
    "name": "ipython",
    "version": 3
   },
   "file_extension": ".py",
   "mimetype": "text/x-python",
   "name": "python",
   "nbconvert_exporter": "python",
   "pygments_lexer": "ipython3",
   "version": "3.7.10"
  }
 },
 "nbformat": 4,
 "nbformat_minor": 4
}
